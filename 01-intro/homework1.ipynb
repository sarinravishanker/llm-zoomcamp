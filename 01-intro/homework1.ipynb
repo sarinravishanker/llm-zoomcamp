{
 "cells": [
  {
   "cell_type": "code",
   "execution_count": null,
   "id": "1b584065-c4fb-400c-ba75-fcd13fd4ee58",
   "metadata": {},
   "outputs": [],
   "source": [
    "import os\n",
    "import openai\n",
    "from openai import OpenAI"
   ]
  },
  {
   "cell_type": "code",
   "execution_count": null,
   "id": "c00e9be6-6155-4648-a23f-f7ecc77601f2",
   "metadata": {},
   "outputs": [],
   "source": [
    "key= os.environ.get('OPENAI_KEY')"
   ]
  },
  {
   "cell_type": "code",
   "execution_count": null,
   "id": "3045f9e0-7336-4d82-96f9-6e08c6f36c0a",
   "metadata": {},
   "outputs": [],
   "source": [
    "client = OpenAI(api_key='OPENAI_KEY')"
   ]
  },
  {
   "cell_type": "code",
   "execution_count": null,
   "id": "d70ea205-c10f-46ce-bcdf-b68573caf456",
   "metadata": {},
   "outputs": [],
   "source": [
    "response = client.chat.completions.create(\n",
    "    model='gpt-4o-mini',\n",
    "    messages=[{\"role\": \"user\",\"content\": \"recommend a recipe with buldak spicy noodles\"}]\n",
    ")"
   ]
  },
  {
   "cell_type": "code",
   "execution_count": null,
   "id": "d01feae1-d8fc-4e3e-9dd5-0877b203a6d0",
   "metadata": {},
   "outputs": [],
   "source": [
    "response"
   ]
  },
  {
   "cell_type": "code",
   "execution_count": null,
   "id": "8e793a7b-e657-4116-b01b-522e21fcdaea",
   "metadata": {},
   "outputs": [],
   "source": [
    "os.environ"
   ]
  },
  {
   "cell_type": "code",
   "execution_count": null,
   "id": "52428a1d-90ec-4f5b-b58d-5deae0c97598",
   "metadata": {},
   "outputs": [],
   "source": []
  }
 ],
 "metadata": {
  "kernelspec": {
   "display_name": "myenv",
   "language": "python",
   "name": "myenv"
  },
  "language_info": {
   "codemirror_mode": {
    "name": "ipython",
    "version": 3
   },
   "file_extension": ".py",
   "mimetype": "text/x-python",
   "name": "python",
   "nbconvert_exporter": "python",
   "pygments_lexer": "ipython3",
   "version": "3.11.4"
  }
 },
 "nbformat": 4,
 "nbformat_minor": 5
}
